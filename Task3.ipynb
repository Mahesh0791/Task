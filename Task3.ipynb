{
 "cells": [
  {
   "cell_type": "code",
   "execution_count": 2,
   "id": "5cdc3f72-cb31-40a2-a1ae-a4ea86b1aa2b",
   "metadata": {},
   "outputs": [],
   "source": [
    "import numpy as np"
   ]
  },
  {
   "cell_type": "code",
   "execution_count": 9,
   "id": "56d067bd-11c1-41c3-a0bf-6594f5c7d84b",
   "metadata": {},
   "outputs": [
    {
     "name": "stdout",
     "output_type": "stream",
     "text": [
      "1D Array: [1 2 3 4 5]\n",
      "2D Array:\n",
      " [[1 2]\n",
      " [3 4]]\n",
      "Zeros Array:\n",
      " [[0. 0. 0.]\n",
      " [0. 0. 0.]]\n",
      "Ones Array:\n",
      " [[1. 1. 1.]\n",
      " [1. 1. 1.]]\n",
      "Full array \n",
      " [[5 5]\n",
      " [5 5]\n",
      " [5 5]\n",
      " [5 5]]\n"
     ]
    }
   ],
   "source": [
    "arr1 = np.array([1, 2, 3, 4, 5])\n",
    "print(\"1D Array:\", arr1)\n",
    "\n",
    "arr2 = np.array([[1, 2], [3, 4]])\n",
    "print(\"2D Array:\\n\", arr2)\n",
    "\n",
    "zeros_arr = np.zeros((2, 3))\n",
    "print(\"Zeros Array:\\n\", zeros_arr)\n",
    "\n",
    "ones_arr = np.ones((2, 3))\n",
    "print(\"Ones Array:\\n\", ones_arr)\n",
    "\n",
    "full = np.full((4,2),5)\n",
    "print(\"Full array \\n\",full)"
   ]
  },
  {
   "cell_type": "code",
   "execution_count": 14,
   "id": "1274c970-363f-4e3f-b0f8-87f82d12a43d",
   "metadata": {},
   "outputs": [
    {
     "name": "stdout",
     "output_type": "stream",
     "text": [
      "Random Array:\n",
      " [[0.02853337 0.60397351]\n",
      " [0.92371583 0.63265353]]\n",
      "Arange Array: [0 2 4 6 8]\n",
      "Reshaped Array (3x4):\n",
      " [[ 0  1  2  3]\n",
      " [ 4  5  6  7]\n",
      " [ 8  9 10 11]]\n",
      "Flattened Array: [ 0  1  2  3  4  5  6  7  8  9 10 11]\n",
      "Transpose:\n",
      " [[1 3]\n",
      " [2 4]]\n"
     ]
    }
   ],
   "source": [
    "random_arr = np.random.rand(2, 2)\n",
    "print(\"Random Array:\\n\", random_arr)\n",
    "\n",
    "arange_arr = np.arange(0, 10, 2)\n",
    "print(\"Arange Array:\", arange_arr)\n",
    "\n",
    "reshaped = np.arange(12).reshape(3, 4)\n",
    "print(\"Reshaped Array (3x4):\\n\", reshaped)\n",
    "\n",
    "flattened = reshaped.flatten()\n",
    "print(\"Flattened Array:\", flattened)\n",
    "\n",
    "transpose = arr2.T\n",
    "print(\"Transpose:\\n\", transpose)"
   ]
  },
  {
   "cell_type": "code",
   "execution_count": 19,
   "id": "2c49378a-e130-4336-9a38-d9c6ac938cea",
   "metadata": {},
   "outputs": [
    {
     "name": "stdout",
     "output_type": "stream",
     "text": [
      "Sorted Array: [1 2 3]\n",
      "Basic Slicing: [3 4 5 6 7]\n",
      "Negative Slicing: 10\n",
      "Concatenated Array: [1 2 3 4 5 6]\n",
      "Mean: 2.0\n",
      "Max: 3\n",
      "Min: 1\n"
     ]
    }
   ],
   "source": [
    "sorted_arr = np.sort(arr1)\n",
    "print(\"Sorted Array:\", sorted_arr)\n",
    "\n",
    "arr = np.array([1,2,3,4,5,6,7,8,9,10,11,12])\n",
    "print(\"Basic Slicing:\",arr[2:7])\n",
    "print(\"Negative Slicing:\",arr[-3])\n",
    "\n",
    "arr1 = np.array([1,2,3])\n",
    "arr2 = np.array([4,5,6])\n",
    "combined = np.concatenate((arr1,arr2))\n",
    "print(\"Concatenated Array:\",combined)\n",
    "\n",
    "mean_val = np.mean(arr1)\n",
    "print(\"Mean:\", mean_val)\n",
    "\n",
    "print(\"Max:\", np.max(arr1))\n",
    "print(\"Min:\", np.min(arr1))"
   ]
  },
  {
   "cell_type": "code",
   "execution_count": null,
   "id": "e6fb3124-65c2-4ef2-b889-3c5a490e248a",
   "metadata": {},
   "outputs": [],
   "source": []
  }
 ],
 "metadata": {
  "kernelspec": {
   "display_name": "Python 3 (ipykernel)",
   "language": "python",
   "name": "python3"
  },
  "language_info": {
   "codemirror_mode": {
    "name": "ipython",
    "version": 3
   },
   "file_extension": ".py",
   "mimetype": "text/x-python",
   "name": "python",
   "nbconvert_exporter": "python",
   "pygments_lexer": "ipython3",
   "version": "3.13.5"
  }
 },
 "nbformat": 4,
 "nbformat_minor": 5
}
