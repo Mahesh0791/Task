{
 "cells": [
  {
   "cell_type": "code",
   "execution_count": 19,
   "id": "f86559ce-01eb-4d24-8e73-bf5d9587b454",
   "metadata": {},
   "outputs": [],
   "source": [
    "fruits = ['apple', 'banana', 'cherry', 'mango']"
   ]
  },
  {
   "cell_type": "code",
   "execution_count": 20,
   "id": "fb7839d5-ff94-4f00-8d79-cdf0c85e80f3",
   "metadata": {},
   "outputs": [
    {
     "name": "stdout",
     "output_type": "stream",
     "text": [
      "['apple', 'banana', 'cherry', 'mango', 'strawberry']\n"
     ]
    }
   ],
   "source": [
    "fruits.append('strawberry')\n",
    "print(fruits)"
   ]
  },
  {
   "cell_type": "code",
   "execution_count": 22,
   "id": "68eda07d-c25f-46de-9d32-6ba972fcad1a",
   "metadata": {},
   "outputs": [
    {
     "name": "stdout",
     "output_type": "stream",
     "text": [
      "['apple', 'banana', 'jackfruit', 'cherry', 'mango', 'strawberry']\n"
     ]
    }
   ],
   "source": [
    "fruits.insert(2, 'jackfruit')\n",
    "print(fruits)"
   ]
  },
  {
   "cell_type": "code",
   "execution_count": 23,
   "id": "942e8b95-be78-4717-8f3b-0d6bb5741265",
   "metadata": {},
   "outputs": [
    {
     "name": "stdout",
     "output_type": "stream",
     "text": [
      "['apple', 'jackfruit', 'cherry', 'mango', 'strawberry']\n"
     ]
    }
   ],
   "source": [
    "fruits.remove('banana')\n",
    "print(fruits)"
   ]
  },
  {
   "cell_type": "code",
   "execution_count": 9,
   "id": "5af1596e-1f66-4a79-aa6c-f324a27cc8cf",
   "metadata": {},
   "outputs": [
    {
     "name": "stdout",
     "output_type": "stream",
     "text": [
      "First fruit: apple\n"
     ]
    }
   ],
   "source": [
    "print(\"First fruit:\", fruits[0])"
   ]
  },
  {
   "cell_type": "code",
   "execution_count": 29,
   "id": "69d3aca0-ff3d-4e15-a11d-7a5815e75a88",
   "metadata": {},
   "outputs": [
    {
     "name": "stdout",
     "output_type": "stream",
     "text": [
      "['apple', 'cherry', 'jackfruit', 'mango', 'strawberry']\n"
     ]
    }
   ],
   "source": [
    "fruits.sort()\n",
    "print(fruits)"
   ]
  },
  {
   "cell_type": "code",
   "execution_count": 30,
   "id": "678edf9b-a17f-4362-a164-e9329fbb2bcd",
   "metadata": {},
   "outputs": [
    {
     "name": "stdout",
     "output_type": "stream",
     "text": [
      "['strawberry', 'mango', 'jackfruit', 'cherry', 'apple']\n"
     ]
    }
   ],
   "source": [
    "fruits.reverse()\n",
    "print(fruits)"
   ]
  },
  {
   "cell_type": "code",
   "execution_count": 33,
   "id": "b9b406e8-000f-456b-b80f-ce0b3ceef861",
   "metadata": {},
   "outputs": [],
   "source": [
    "num = (10, 20, 30, 40, 50)"
   ]
  },
  {
   "cell_type": "code",
   "execution_count": 34,
   "id": "a5e1f7b5-81c2-40d6-86d7-a9d7e64d7371",
   "metadata": {},
   "outputs": [
    {
     "name": "stdout",
     "output_type": "stream",
     "text": [
      "Element at index 2: 30\n"
     ]
    }
   ],
   "source": [
    "print(\"Element at index 2:\", num[2])"
   ]
  },
  {
   "cell_type": "code",
   "execution_count": 35,
   "id": "af8e1b0a-2157-4141-a7cb-fc6288f36c06",
   "metadata": {},
   "outputs": [
    {
     "name": "stdout",
     "output_type": "stream",
     "text": [
      "Sliced Tuple [1:4]: (20, 30, 40)\n"
     ]
    }
   ],
   "source": [
    "print(\"Sliced Tuple [1:4]:\", num[1:4])"
   ]
  },
  {
   "cell_type": "code",
   "execution_count": 36,
   "id": "b1807874-bb34-41a4-8a20-e684955ac773",
   "metadata": {},
   "outputs": [
    {
     "name": "stdout",
     "output_type": "stream",
     "text": [
      "Count of 20: 1\n"
     ]
    }
   ],
   "source": [
    "print(\"Count of 20:\", num.count(20))"
   ]
  },
  {
   "cell_type": "code",
   "execution_count": 37,
   "id": "4bc2a579-6be6-4b73-b82e-19f78bf316d4",
   "metadata": {},
   "outputs": [
    {
     "name": "stdout",
     "output_type": "stream",
     "text": [
      "Index of 40: 3\n"
     ]
    }
   ],
   "source": [
    "print(\"Index of 40:\", num.index(40))"
   ]
  },
  {
   "cell_type": "code",
   "execution_count": 38,
   "id": "9e862885-363d-4f3e-8b2d-aa0ccc26057f",
   "metadata": {},
   "outputs": [
    {
     "name": "stdout",
     "output_type": "stream",
     "text": [
      "Length of tuple: 5\n"
     ]
    }
   ],
   "source": [
    "print(\"Length of tuple:\", len(num))"
   ]
  },
  {
   "cell_type": "code",
   "execution_count": 45,
   "id": "ab649759-82a1-4e0e-b403-6a1f10973386",
   "metadata": {},
   "outputs": [],
   "source": [
    "colors = {'red', 'green', 'blue'}"
   ]
  },
  {
   "cell_type": "code",
   "execution_count": 46,
   "id": "aba8d671-de03-4f47-b7d4-404b118ffefb",
   "metadata": {},
   "outputs": [],
   "source": [
    "colors.add('yellow')"
   ]
  },
  {
   "cell_type": "code",
   "execution_count": 47,
   "id": "e557a7a7-7c0d-4999-b816-70e0dbcee4ae",
   "metadata": {},
   "outputs": [],
   "source": [
    "colors.remove('green')\n"
   ]
  },
  {
   "cell_type": "code",
   "execution_count": 48,
   "id": "6f6435ba-1d65-4dbd-a999-a107cb77c21b",
   "metadata": {},
   "outputs": [
    {
     "name": "stdout",
     "output_type": "stream",
     "text": [
      "{'red', 'yellow', 'blue'}\n"
     ]
    }
   ],
   "source": [
    "print(colors)"
   ]
  },
  {
   "cell_type": "code",
   "execution_count": 50,
   "id": "09d0f014-475e-4cdd-bd49-0d2c8d06f1ea",
   "metadata": {},
   "outputs": [
    {
     "name": "stdout",
     "output_type": "stream",
     "text": [
      "Is 'red' in colors? True\n",
      "Union: {'white', 'yellow', 'black', 'red', 'blue'}\n",
      "Intersection: {'blue'}\n",
      "Difference: {'red', 'yellow'}\n"
     ]
    }
   ],
   "source": [
    "print(\"Is 'red' in colors?\", 'red' in colors)\n",
    "\n",
    "more_colors = {'black', 'white', 'blue'}\n",
    "union_set = colors.union(more_colors)\n",
    "\n",
    "intersection_set = colors.intersection(more_colors)\n",
    "\n",
    "difference_set = colors.difference(more_colors)\n",
    "\n",
    "print(\"Union:\", union_set)\n",
    "print(\"Intersection:\", intersection_set)\n",
    "print(\"Difference:\", difference_set)\n"
   ]
  },
  {
   "cell_type": "code",
   "execution_count": null,
   "id": "f6bce159-9bbf-420a-af1c-06d8c8ce35ea",
   "metadata": {},
   "outputs": [],
   "source": [
    "\n"
   ]
  }
 ],
 "metadata": {
  "kernelspec": {
   "display_name": "Python 3 (ipykernel)",
   "language": "python",
   "name": "python3"
  },
  "language_info": {
   "codemirror_mode": {
    "name": "ipython",
    "version": 3
   },
   "file_extension": ".py",
   "mimetype": "text/x-python",
   "name": "python",
   "nbconvert_exporter": "python",
   "pygments_lexer": "ipython3",
   "version": "3.13.5"
  }
 },
 "nbformat": 4,
 "nbformat_minor": 5
}
