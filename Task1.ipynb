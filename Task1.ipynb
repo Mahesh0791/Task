{
 "cells": [
  {
   "cell_type": "code",
   "execution_count": 17,
   "id": "dc329a69-66f4-4303-9b81-a54e02257989",
   "metadata": {},
   "outputs": [],
   "source": [
    "filename = \"sample_file.txt\""
   ]
  },
  {
   "cell_type": "code",
   "execution_count": 18,
   "id": "7b91f43a-19be-40ad-b1aa-6b6ec0d63e87",
   "metadata": {},
   "outputs": [],
   "source": [
    "with open(filename, \"w\") as f:\n",
    "    f.write(\"Hello, world!\\n\")\n",
    "    f.write(\"This is a file operation example.\\n\")"
   ]
  },
  {
   "cell_type": "code",
   "execution_count": 19,
   "id": "f7092d17-79c6-49f3-9a00-8ff6c186ed4b",
   "metadata": {},
   "outputs": [
    {
     "name": "stdout",
     "output_type": "stream",
     "text": [
      "File Content:\n",
      " Hello, world!\n",
      "This is a file operation example.\n",
      "\n"
     ]
    }
   ],
   "source": [
    "with open(filename, \"r\") as f:\n",
    "    content = f.read()\n",
    "    print(\"File Content:\\n\", content)\n"
   ]
  },
  {
   "cell_type": "code",
   "execution_count": 20,
   "id": "6e9bec5a-7756-4947-8b04-8fb1519cbe8f",
   "metadata": {},
   "outputs": [],
   "source": [
    "with open(filename, \"a\") as f:\n",
    "    f.write(\"Appending a new line.\\n\")"
   ]
  },
  {
   "cell_type": "code",
   "execution_count": 21,
   "id": "f15ef097-ef8a-4d5d-b736-18780c7a6722",
   "metadata": {},
   "outputs": [
    {
     "name": "stdout",
     "output_type": "stream",
     "text": [
      "After appending:\n",
      " Hello, world!\n",
      "This is a file operation example.\n",
      "Appending a new line.\n",
      "\n"
     ]
    }
   ],
   "source": [
    "with open(filename, \"r\") as f:\n",
    "    content = f.read()\n",
    "    print(\"After appending:\\n\", content)\n"
   ]
  },
  {
   "cell_type": "code",
   "execution_count": 22,
   "id": "10e870b9-6c58-440d-aeb2-67ec4ad2ce51",
   "metadata": {},
   "outputs": [
    {
     "name": "stdout",
     "output_type": "stream",
     "text": [
      "File exists: True\n",
      "File size (bytes): 73\n"
     ]
    }
   ],
   "source": [
    "import os\n",
    "print(\"File exists:\", os.path.exists(filename))\n",
    "print(\"File size (bytes):\", os.path.getsize(filename))"
   ]
  },
  {
   "cell_type": "code",
   "execution_count": 23,
   "id": "8cf06a7b-2656-4c44-8cbf-9436d2a6c028",
   "metadata": {},
   "outputs": [
    {
     "name": "stdout",
     "output_type": "stream",
     "text": [
      "\n",
      "File deleted successfully.\n"
     ]
    }
   ],
   "source": [
    "import os\n",
    "os.remove(\"sample_file.txt\")\n",
    "print(\"\\nFile deleted successfully.\")"
   ]
  },
  {
   "cell_type": "code",
   "execution_count": 27,
   "id": "a3df6f7f-4ace-4e7d-9162-64fe9cb9fe61",
   "metadata": {},
   "outputs": [
    {
     "name": "stdout",
     "output_type": "stream",
     "text": [
      "Bitwise AND: 0\n",
      "Bitwise OR: 14\n",
      "Bitwise XOR: 14\n",
      "Bitwise NOT (~a): -11\n",
      "Left Shift (a << 1): 20\n",
      "Right Shift (a >> 1): 5\n"
     ]
    }
   ],
   "source": [
    "#Bitwise operator\n",
    "\n",
    "a = 10  \n",
    "b = 4  \n",
    "\n",
    "print(\"Bitwise AND:\", a & b)  \n",
    "print(\"Bitwise OR:\", a | b)   \n",
    "print(\"Bitwise XOR:\", a ^ b)   \n",
    "print(\"Bitwise NOT (~a):\", ~a)\n",
    "print(\"Left Shift (a << 1):\", a << 1)  \n",
    "print(\"Right Shift (a >> 1):\", a >> 1)"
   ]
  },
  {
   "cell_type": "code",
   "execution_count": 39,
   "id": "73b47383-4528-4a75-a41e-e8c025f92dcc",
   "metadata": {},
   "outputs": [
    {
     "name": "stdout",
     "output_type": "stream",
     "text": [
      "After += : 12\n",
      "After -= : 8\n",
      "After *= : 24\n",
      "After /= : 4.0\n",
      "After //= : 0.0\n",
      "After %= : 0.0\n"
     ]
    }
   ],
   "source": [
    "#Assignment operator\n",
    "\n",
    "c = 10\n",
    "c += 2  \n",
    "print(\"After += :\", c)\n",
    "\n",
    "c -= 4\n",
    "print(\"After -= :\", c)\n",
    "\n",
    "c *= 3  \n",
    "print(\"After *= :\", c)\n",
    "\n",
    "c /= 6\n",
    "print(\"After /= :\", c)\n",
    "\n",
    "c //= 5\n",
    "print(\"After //= :\", c)\n",
    "\n",
    "c %= 16\n",
    "print(\"After %= :\", c)\n"
   ]
  },
  {
   "cell_type": "code",
   "execution_count": 53,
   "id": "c3d8e2b8-440d-4c94-8527-6a7249eb3861",
   "metadata": {},
   "outputs": [],
   "source": [
    "text = \"Hello Python \""
   ]
  },
  {
   "cell_type": "code",
   "execution_count": 72,
   "id": "cb6e3087-0fe3-42b6-83e1-85eab702e579",
   "metadata": {},
   "outputs": [
    {
     "data": {
      "text/plain": [
       "'HELLO PYTHON '"
      ]
     },
     "execution_count": 72,
     "metadata": {},
     "output_type": "execute_result"
    }
   ],
   "source": [
    "text.upper()"
   ]
  },
  {
   "cell_type": "code",
   "execution_count": 55,
   "id": "b3e0dfbf-650b-4f26-ac7f-49de2b3f4200",
   "metadata": {},
   "outputs": [
    {
     "data": {
      "text/plain": [
       "'hello python '"
      ]
     },
     "execution_count": 55,
     "metadata": {},
     "output_type": "execute_result"
    }
   ],
   "source": [
    "text.lower()"
   ]
  },
  {
   "cell_type": "code",
   "execution_count": 56,
   "id": "76291ee3-0a56-4354-8495-baac75f55e95",
   "metadata": {},
   "outputs": [
    {
     "data": {
      "text/plain": [
       "'Hello python '"
      ]
     },
     "execution_count": 56,
     "metadata": {},
     "output_type": "execute_result"
    }
   ],
   "source": [
    "text.capitalize()"
   ]
  },
  {
   "cell_type": "code",
   "execution_count": 61,
   "id": "20212444-d99f-443e-ba68-5fa616de64e2",
   "metadata": {},
   "outputs": [
    {
     "data": {
      "text/plain": [
       "2"
      ]
     },
     "execution_count": 61,
     "metadata": {},
     "output_type": "execute_result"
    }
   ],
   "source": [
    "text.count('o')"
   ]
  },
  {
   "cell_type": "code",
   "execution_count": 68,
   "id": "240908c0-6262-4987-80a9-4082fc774503",
   "metadata": {},
   "outputs": [
    {
     "name": "stdout",
     "output_type": "stream",
     "text": [
      "nohtyp\n"
     ]
    }
   ],
   "source": [
    "reverse = 'python'\n",
    "print(reverse[::-1])"
   ]
  },
  {
   "cell_type": "code",
   "execution_count": 75,
   "id": "a83056cf-0856-4080-b763-2a2a5a0f11e7",
   "metadata": {},
   "outputs": [
    {
     "name": "stdout",
     "output_type": "stream",
     "text": [
      "length: 13\n"
     ]
    }
   ],
   "source": [
    "print(\"length:\",len(text))"
   ]
  },
  {
   "cell_type": "code",
   "execution_count": 77,
   "id": "a7af011e-6caa-4896-8fb0-ac4200439e57",
   "metadata": {},
   "outputs": [
    {
     "data": {
      "text/plain": [
       "True"
      ]
     },
     "execution_count": 77,
     "metadata": {},
     "output_type": "execute_result"
    }
   ],
   "source": [
    "text.startswith('H')"
   ]
  },
  {
   "cell_type": "code",
   "execution_count": 83,
   "id": "e3019956-05ba-4707-b1ef-5fa57d8dcb43",
   "metadata": {},
   "outputs": [
    {
     "data": {
      "text/plain": [
       "False"
      ]
     },
     "execution_count": 83,
     "metadata": {},
     "output_type": "execute_result"
    }
   ],
   "source": [
    "text.endswith('abc')"
   ]
  },
  {
   "cell_type": "code",
   "execution_count": 86,
   "id": "42ce5ee7-9b7c-4c92-9853-24be37a11bf4",
   "metadata": {},
   "outputs": [
    {
     "name": "stdout",
     "output_type": "stream",
     "text": [
      "7\n",
      "Python is crazy\n"
     ]
    }
   ],
   "source": [
    "s = 'Python is fun'\n",
    "print(s.find(\"is\"))\n",
    "print(s.replace(\"fun\",\"crazy\"))\n"
   ]
  },
  {
   "cell_type": "code",
   "execution_count": null,
   "id": "41c402f5-29ee-449d-a73c-aa65bc401742",
   "metadata": {},
   "outputs": [],
   "source": []
  }
 ],
 "metadata": {
  "kernelspec": {
   "display_name": "Python 3 (ipykernel)",
   "language": "python",
   "name": "python3"
  },
  "language_info": {
   "codemirror_mode": {
    "name": "ipython",
    "version": 3
   },
   "file_extension": ".py",
   "mimetype": "text/x-python",
   "name": "python",
   "nbconvert_exporter": "python",
   "pygments_lexer": "ipython3",
   "version": "3.13.5"
  }
 },
 "nbformat": 4,
 "nbformat_minor": 5
}
